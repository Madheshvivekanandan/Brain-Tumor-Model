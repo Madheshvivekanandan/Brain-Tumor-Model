import torch
from torch.utils.data import Dataset, DataLoader
from torchvision import transforms
from PIL import Image
import pickle
import os

# Define the dataset class
class ImageDataset(Dataset):
    def __init__(self, dataframe, transform=None):
        self.dataframe = dataframe
        self.transform = transform

        # Create the label mapping
        unique_labels = self.dataframe['label'].unique()
        self.label_mapping = {label: idx for idx, label in enumerate(unique_labels)}
        self.dataframe['label'] = self.dataframe['label'].map(self.label_mapping)

        # Save the label_mapping to a file for later use
        with open("label_mapping.pkl", "wb") as f:
            pickle.dump(self.label_mapping, f)

    def __len__(self):
        return len(self.dataframe)

    def __getitem__(self, idx):
        image_path = self.dataframe.iloc[idx, 0]  # Image path
        label = self.dataframe.iloc[idx, 1]      # Label (integer)

        image = Image.open(image_path).convert("L")  # Grayscale
        if self.transform:
            image = self.transform(image)

        # Convert label to tensor
        label = torch.tensor(label, dtype=torch.long)
        return image, label

# Define model architecture
class SimpleConvNet(torch.nn.Module):
    def __init__(self, num_classes):
        super(SimpleConvNet, self).__init__()
        self.conv1 = torch.nn.Conv2d(1, 32, kernel_size=3, stride=1, padding=1)
        self.pool = torch.nn.MaxPool2d(2, 2)
        self.fc1 = torch.nn.Linear(32 * 112 * 112, 128)
        self.fc2 = torch.nn.Linear(128, num_classes)

    def forward(self, x):
        x = self.pool(torch.nn.functional.relu(self.conv1(x)))
        x = torch.flatten(x, 1)  # Flatten the input for the fully connected layer
        x = torch.nn.functional.relu(self.fc1(x))
        x = self.fc2(x)
        return x

# Define transformation for training and testing
transform = transforms.Compose([
    transforms.Resize((224, 224)),   # Resize to 224x224
    transforms.ToTensor(),           # Convert to Tensor
    transforms.Normalize(mean=[0.5], std=[0.5])  # Normalize for grayscale
])

# Function to load image dataset into a DataFrame
import pandas as pd
import os

def load_image_dataset(dataset_path):
    data = []
    for class_name in os.listdir(dataset_path):
        class_path = os.path.join(dataset_path, class_name)
        if os.path.isdir(class_path):  # Check if it's a directory
            for image_name in os.listdir(class_path):
                image_path = os.path.join(class_path, image_name)
                data.append({"image_path": image_path, "label": class_name})
    
    # Create a DataFrame
    df = pd.DataFrame(data)
    return df

# Load dataset
dataset_path = "/root/.cache/kagglehub/datasets/arifmia/brain-tumor-dataset/versions/1/Brain MRI"
df = load_image_dataset(dataset_path)

# Train-test split (80-20)
from sklearn.model_selection import train_test_split
train_df, val_df = train_test_split(df, test_size=0.2, stratify=df['label'], random_state=42)

train_dataset = ImageDataset(dataframe=train_df, transform=transform)
val_dataset = ImageDataset(dataframe=val_df, transform=transform)
train_loader = DataLoader(train_dataset, batch_size=32, shuffle=True)
val_loader = DataLoader(val_dataset, batch_size=32, shuffle=False)

# Initialize model, loss function, and optimizer
num_classes = len(df['label'].unique())
model = SimpleConvNet(num_classes=num_classes)
criterion = torch.nn.CrossEntropyLoss()
optimizer = torch.optim.Adam(model.parameters(), lr=0.001)

# Train the model
num_epochs = 10
for epoch in range(num_epochs):
    model.train()
    running_loss = 0.0
    for images, labels in train_loader:
        optimizer.zero_grad()
        
        # Forward pass
        outputs = model(images)
        loss = criterion(outputs, labels)
        
        # Backward pass and optimize
        loss.backward()
        optimizer.step()
        
        running_loss += loss.item()

    print(f"Epoch [{epoch+1}/{num_epochs}], Loss: {running_loss/len(train_loader):.4f}")

# Save the model weights
torch.save(model.state_dict(), 'model_weights.pth')

# --- Inference Section ---

# Load the label mapping
with open("label_mapping.pkl", "rb") as f:
    label_mapping = pickle.load(f)

# Function for making predictions
def predict(image_path, model):
    image = Image.open(image_path).convert("L")  # Convert to grayscale
    image = transform(image).unsqueeze(0)  # Add batch dimension

    # Set model to evaluation mode
    model.eval()

    # Make prediction
    with torch.no_grad():
        output = model(image)
        _, predicted_class = torch.max(output, 1)
    
    # Map the predicted class index to the class label
    predicted_class_label = list(label_mapping.keys())[list(label_mapping.values()).index(predicted_class.item())]
    return predicted_class_label

# Load the trained model
model.load_state_dict(torch.load('model_weights.pth'))

# Example prediction
image_path = '/root/.cache/kagglehub/datasets/arifmia/brain-tumor-dataset/versions/1/Brain MRI/yes/Y10.jpg'
predicted_class_label = predict(image_path, model)
print(f"Predicted class label: {predicted_class_label}")
